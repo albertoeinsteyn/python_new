{
  "nbformat": 4,
  "nbformat_minor": 0,
  "metadata": {
    "colab": {
      "name": "DesafioDevePro.ipynb",
      "provenance": [],
      "collapsed_sections": [],
      "authorship_tag": "ABX9TyM9yGKuRl5+SOLKApZW66k5",
      "include_colab_link": true
    },
    "kernelspec": {
      "name": "python3",
      "display_name": "Python 3"
    },
    "language_info": {
      "name": "python"
    }
  },
  "cells": [
    {
      "cell_type": "markdown",
      "metadata": {
        "id": "view-in-github",
        "colab_type": "text"
      },
      "source": [
        "<a href=\"https://colab.research.google.com/github/albertoeinsteyn/python_new/blob/main/DesafioDevePro.ipynb\" target=\"_parent\"><img src=\"https://colab.research.google.com/assets/colab-badge.svg\" alt=\"Open In Colab\"/></a>"
      ]
    },
    {
      "cell_type": "code",
      "metadata": {
        "id": "Rrn0J4ATtku3"
      },
      "source": [
        ""
      ],
      "execution_count": null,
      "outputs": []
    },
    {
      "cell_type": "markdown",
      "metadata": {
        "id": "zrpWqm1It5A8"
      },
      "source": [
        "# Desafio Devpro"
      ]
    },
    {
      "cell_type": "markdown",
      "metadata": {
        "id": "QN82H9rou3Bd"
      },
      "source": [
        "Nesse Nootebook vamos resolver varios exercicios da [lista da Pytho Brasil](https://wiki.python.org.br/ListaDeExercicios)"
      ]
    },
    {
      "cell_type": "code",
      "metadata": {
        "id": "MEXR2zrbt81p"
      },
      "source": [
        ""
      ],
      "execution_count": null,
      "outputs": []
    },
    {
      "cell_type": "markdown",
      "metadata": {
        "id": "SVAbPRMxvMdS"
      },
      "source": [
        "# [Estrutura Sequencial](https://wiki.python.org.br/EstruturaSequencial)"
      ]
    },
    {
      "cell_type": "markdown",
      "metadata": {
        "id": "_pTIkVs-v2ZQ"
      },
      "source": [
        "Exercicio 1"
      ]
    },
    {
      "cell_type": "markdown",
      "metadata": {
        "id": "jU6P28GZuhcq"
      },
      "source": [
        ""
      ]
    },
    {
      "cell_type": "markdown",
      "metadata": {
        "id": "squRoGJ_wyn2"
      },
      "source": [
        "Exercicio 1"
      ]
    },
    {
      "cell_type": "code",
      "metadata": {
        "colab": {
          "base_uri": "https://localhost:8080/"
        },
        "id": "YxFT9L8jwBE1",
        "outputId": "577c0c2a-bd12-4502-9bd5-cb3ae147264e"
      },
      "source": [
        "print('Olá Mundo') # RESOLVIDO 11/05/2021\n",
        "type('Olá Mundo')"
      ],
      "execution_count": null,
      "outputs": [
        {
          "output_type": "stream",
          "text": [
            "Olá Mundo\n"
          ],
          "name": "stdout"
        },
        {
          "output_type": "execute_result",
          "data": {
            "text/plain": [
              "str"
            ]
          },
          "metadata": {
            "tags": []
          },
          "execution_count": 3
        }
      ]
    },
    {
      "cell_type": "markdown",
      "metadata": {
        "id": "vKrFy-wNw7SU"
      },
      "source": [
        ""
      ]
    },
    {
      "cell_type": "code",
      "metadata": {
        "id": "9wonyJgFw1dp"
      },
      "source": [
        ""
      ],
      "execution_count": null,
      "outputs": []
    },
    {
      "cell_type": "markdown",
      "metadata": {
        "id": "V6jrzuvlxB5S"
      },
      "source": [
        "Exercicio 2"
      ]
    },
    {
      "cell_type": "code",
      "metadata": {
        "colab": {
          "base_uri": "https://localhost:8080/"
        },
        "id": "5F9HBqSAxFWy",
        "outputId": "e6566648-878a-43ba-bb8e-61c59218f121"
      },
      "source": [
        "numero = input('Digite um numero: ') # RESOLVIDO DIA 11/05/2021\n",
        "print(f'o numero informado foi {numero}')  # f (o \"f\" vem de F STRING)"
      ],
      "execution_count": null,
      "outputs": [
        {
          "output_type": "stream",
          "text": [
            "Digite um numero: 02\n",
            "o numero informado foi 02\n"
          ],
          "name": "stdout"
        }
      ]
    },
    {
      "cell_type": "markdown",
      "metadata": {
        "id": "8FSyhWmVzSsR"
      },
      "source": [
        "EXERCICIO 3"
      ]
    },
    {
      "cell_type": "code",
      "metadata": {
        "colab": {
          "base_uri": "https://localhost:8080/"
        },
        "id": "ASQ_3eY4zU7L",
        "outputId": "1bf74732-955b-42d8-a624-251cc2eeb51d"
      },
      "source": [
        "numero_1 = int(input('Digite um numero: ')) # resolvido 11/05/2021\n",
        "numero_2 = int(input('Digite outro numero: '))\n",
        "soma = numero_1 + numero_2\n",
        "print(f'A soma dos numero foi: {soma} ')\n",
        "type(soma)\n",
        "\n",
        "\n"
      ],
      "execution_count": null,
      "outputs": [
        {
          "output_type": "stream",
          "text": [
            "Digite um numero: 10\n",
            "Digite outro numero: 20\n",
            "A soma dos numero foi: 30 \n"
          ],
          "name": "stdout"
        },
        {
          "output_type": "execute_result",
          "data": {
            "text/plain": [
              "int"
            ]
          },
          "metadata": {
            "tags": []
          },
          "execution_count": 6
        }
      ]
    },
    {
      "cell_type": "markdown",
      "metadata": {
        "id": "qUvylmqH2hqU"
      },
      "source": [
        "LIÇAO DE CASA\n",
        "EXERCICIO 17 (A)"
      ]
    },
    {
      "cell_type": "code",
      "metadata": {
        "id": "ILYs3VMP2nV0",
        "colab": {
          "base_uri": "https://localhost:8080/"
        },
        "outputId": "4a6b64d6-8a89-416e-a301-b3bc20a69428"
      },
      "source": [
        "import math\n",
        "\n",
        "area_por_metro = int(input('Digite sua Metragem: ')) # area por metros quadrados\n",
        "area_com_folga = area_por_metro * 1.1\n",
        "print(f'Area com folga 10% a Maior é: {area_com_folga}')\n",
        "litros_por_metro = 6\n",
        "litros_a_ser_usados = area_com_folga / litros_por_metro\n",
        "litros_por_latas = 18\n",
        "valor_por_lata = 80\n",
        "numero_de_latas = litros_a_ser_usados / litros_por_latas\n",
        "valor_com_apenas_latas = numero_de_latas * 80 * 2\n",
        "quantidade_Surgerida_a_comprar = (math.ceil(numero_de_latas))\n",
        "print(f'litros a ser usados {litros_a_ser_usados} ')\n",
        "print(f'numero de latas {numero_de_latas}')\n",
        "print('Quantidade Surgerida a Comprar', math.ceil(numero_de_latas))\n",
        "print(f'valor_com_apenas_latas {numero_de_latas} ')\n",
        "print (f'voce deve usar {numero_de_latas}')\n",
        "\n",
        "\n"
      ],
      "execution_count": null,
      "outputs": [
        {
          "output_type": "stream",
          "text": [
            "Digite sua Metragem: 100\n",
            "Area com folga 10% a Maior é: 110.00000000000001\n",
            "litros a ser usados 18.333333333333336 \n",
            "numero de latas 1.0185185185185186\n",
            "Quantidade Surgerida a Comprar 2\n",
            "valor_com_apenas_latas 1.0185185185185186 \n",
            "voce deve usar 1.0185185185185186\n"
          ],
          "name": "stdout"
        }
      ]
    },
    {
      "cell_type": "markdown",
      "metadata": {
        "id": "QrJjVpCRc3Jy"
      },
      "source": [
        "METODO: FORMAT ()"
      ]
    },
    {
      "cell_type": "markdown",
      "metadata": {
        "id": "hpbRob9xbgoh"
      },
      "source": [
        ""
      ]
    },
    {
      "cell_type": "markdown",
      "metadata": {
        "id": "Bl5UoSGwc9kf"
      },
      "source": [
        "Recebe um valor e, opcionalmente, uma especificação de formatação como parametro. Retorna uma string."
      ]
    },
    {
      "cell_type": "markdown",
      "metadata": {
        "id": "fMARRdTMd7MX"
      },
      "source": [
        "EXEMPLO:"
      ]
    },
    {
      "cell_type": "code",
      "metadata": {
        "colab": {
          "base_uri": "https://localhost:8080/",
          "height": 35
        },
        "id": "mMWH36nzeGP1",
        "outputId": "06383971-4dd9-4d1d-ed7a-58e76a7cfbb6"
      },
      "source": [
        "format (3) # apenas o valor"
      ],
      "execution_count": null,
      "outputs": [
        {
          "output_type": "execute_result",
          "data": {
            "application/vnd.google.colaboratory.intrinsic+json": {
              "type": "string"
            },
            "text/plain": [
              "'3'"
            ]
          },
          "metadata": {
            "tags": []
          },
          "execution_count": 7
        }
      ]
    },
    {
      "cell_type": "code",
      "metadata": {
        "id": "Fmb98ItBe6Z-"
      },
      "source": [
        "format (2, \"d\") # valor e indicacao de inteiri \"d\""
      ],
      "execution_count": null,
      "outputs": []
    },
    {
      "cell_type": "code",
      "metadata": {
        "id": "iGRknw26e7-t"
      },
      "source": [
        "format (3, \".2f\") # valor e indicação de floatcom duas csas decimais"
      ],
      "execution_count": null,
      "outputs": []
    },
    {
      "cell_type": "markdown",
      "metadata": {
        "id": "6miXL48OfSth"
      },
      "source": [
        "METODO STRING \"str.format()"
      ]
    },
    {
      "cell_type": "markdown",
      "metadata": {
        "id": "FRR6cpLAff9f"
      },
      "source": [
        "A string \"str\" é um templete com pontos de substituição delimitados por PARENTESE \"{ }\" ESTES PONTOS SERÃO PREENCHIDOS COM VALORES FORNECIDOS PELO METODO \"format\" , respeitando a posição ou nome do paramentro."
      ]
    },
    {
      "cell_type": "markdown",
      "metadata": {
        "id": "avENh04TgUUB"
      },
      "source": [
        "EXEMPLO"
      ]
    },
    {
      "cell_type": "code",
      "metadata": {
        "colab": {
          "base_uri": "https://localhost:8080/",
          "height": 35
        },
        "id": "CSQ3kL-_gW3e",
        "outputId": "5d1ad145-9d50-4582-abd1-661f6c9b83d9"
      },
      "source": [
        "\"a = {}\".format(100) # apenas um parametro"
      ],
      "execution_count": null,
      "outputs": [
        {
          "output_type": "execute_result",
          "data": {
            "application/vnd.google.colaboratory.intrinsic+json": {
              "type": "string"
            },
            "text/plain": [
              "'a = 100'"
            ]
          },
          "metadata": {
            "tags": []
          },
          "execution_count": 8
        }
      ]
    },
    {
      "cell_type": "code",
      "metadata": {
        "colab": {
          "base_uri": "https://localhost:8080/",
          "height": 35
        },
        "id": "m02Xs3mBgz0z",
        "outputId": "0b284bf7-b479-4962-b2f7-6359e1dc34bd"
      },
      "source": [
        "\"a = {}, b = {}\".format (100, 200) # DOIS PARAMETRO, PREENCHIDOS NA ORDEM NATURAL"
      ],
      "execution_count": null,
      "outputs": [
        {
          "output_type": "execute_result",
          "data": {
            "application/vnd.google.colaboratory.intrinsic+json": {
              "type": "string"
            },
            "text/plain": [
              "'a = 100, b = 200'"
            ]
          },
          "metadata": {
            "tags": []
          },
          "execution_count": 9
        }
      ]
    },
    {
      "cell_type": "code",
      "metadata": {
        "colab": {
          "base_uri": "https://localhost:8080/",
          "height": 35
        },
        "id": "wLMdlQaYhPeL",
        "outputId": "61cc229e-cc08-40c9-9e51-77df1723f2e5"
      },
      "source": [
        "\"a = {0}, b = {1}\".format(100, 200) # dois parametros, com indicação da ordem natural."
      ],
      "execution_count": null,
      "outputs": [
        {
          "output_type": "execute_result",
          "data": {
            "application/vnd.google.colaboratory.intrinsic+json": {
              "type": "string"
            },
            "text/plain": [
              "'a = 100, b = 200'"
            ]
          },
          "metadata": {
            "tags": []
          },
          "execution_count": 10
        }
      ]
    },
    {
      "cell_type": "code",
      "metadata": {
        "colab": {
          "base_uri": "https://localhost:8080/",
          "height": 35
        },
        "id": "koOOA9Rfh9n3",
        "outputId": "554f5a6a-a459-47e6-a426-0dfafac39eea"
      },
      "source": [
        "\"a = {1}, b = {0}\".format(200, 100) # dois parametros, indicando ordem inversa."
      ],
      "execution_count": null,
      "outputs": [
        {
          "output_type": "execute_result",
          "data": {
            "application/vnd.google.colaboratory.intrinsic+json": {
              "type": "string"
            },
            "text/plain": [
              "'a = 200, b = 100'"
            ]
          },
          "metadata": {
            "tags": []
          },
          "execution_count": 11
        }
      ]
    },
    {
      "cell_type": "code",
      "metadata": {
        "colab": {
          "base_uri": "https://localhost:8080/",
          "height": 35
        },
        "id": "hHjBzhmtiW7m",
        "outputId": "48dfbdc3-1a8a-405b-8932-47e87622ea7b"
      },
      "source": [
        "\"a = {0}, b {1}, c = {1}\".format(100, 200) # dois parametro, com duas ocorrencias do segundo"
      ],
      "execution_count": null,
      "outputs": [
        {
          "output_type": "execute_result",
          "data": {
            "application/vnd.google.colaboratory.intrinsic+json": {
              "type": "string"
            },
            "text/plain": [
              "'a = 100, b 200, c = 200'"
            ]
          },
          "metadata": {
            "tags": []
          },
          "execution_count": 12
        }
      ]
    },
    {
      "cell_type": "markdown",
      "metadata": {
        "id": "WFskLS_0jQ5P"
      },
      "source": [
        "FORMAT - PARAMETRO POR NOME"
      ]
    },
    {
      "cell_type": "code",
      "metadata": {
        "colab": {
          "base_uri": "https://localhost:8080/",
          "height": 35
        },
        "id": "oqRYGaMujZQW",
        "outputId": "4155a4b5-7d8b-439f-e2cc-4da87383cd3c"
      },
      "source": [
        "\"a = {x}, b = {x}\".format(x = 100) # um parametros, duas ocorrencias."
      ],
      "execution_count": null,
      "outputs": [
        {
          "output_type": "execute_result",
          "data": {
            "application/vnd.google.colaboratory.intrinsic+json": {
              "type": "string"
            },
            "text/plain": [
              "'a = 100, b = 100'"
            ]
          },
          "metadata": {
            "tags": []
          },
          "execution_count": 13
        }
      ]
    },
    {
      "cell_type": "code",
      "metadata": {
        "colab": {
          "base_uri": "https://localhost:8080/",
          "height": 35
        },
        "id": "Io54camQj76S",
        "outputId": "fe6c4796-7934-46a7-bb78-c236c11b517d"
      },
      "source": [
        "\"a = {x}, b = {y}\".format(x = 100, y = 200) # dois parametros, duis nomes."
      ],
      "execution_count": null,
      "outputs": [
        {
          "output_type": "execute_result",
          "data": {
            "application/vnd.google.colaboratory.intrinsic+json": {
              "type": "string"
            },
            "text/plain": [
              "'a = 100, b = 200'"
            ]
          },
          "metadata": {
            "tags": []
          },
          "execution_count": 14
        }
      ]
    },
    {
      "cell_type": "code",
      "metadata": {
        "colab": {
          "base_uri": "https://localhost:8080/",
          "height": 35
        },
        "id": "CwnQMCSokOD4",
        "outputId": "3c652493-605e-41cf-ad2e-25c084e0180e"
      },
      "source": [
        "\"b = {y}, a = {x}\".format(x = 100, y = 200) # dois parametros, duis nomes utilizados em ordem inversa."
      ],
      "execution_count": null,
      "outputs": [
        {
          "output_type": "execute_result",
          "data": {
            "application/vnd.google.colaboratory.intrinsic+json": {
              "type": "string"
            },
            "text/plain": [
              "'b = 200, a = 100'"
            ]
          },
          "metadata": {
            "tags": []
          },
          "execution_count": 15
        }
      ]
    },
    {
      "cell_type": "markdown",
      "metadata": {
        "id": "qjkBc9ZAkmog"
      },
      "source": [
        "FORMATAÇÃO POR TIPO:"
      ]
    },
    {
      "cell_type": "markdown",
      "metadata": {
        "id": "9Bx8nJknlMgm"
      },
      "source": [
        "SERA FEITA NO TEMPLATE, PRECIDIDA POR :. PODE SER COLOCADA ISOLADAMENTE :<desc_tipo> OU APOS A INDICAÇÃO POSIÇÃO <pos>:<desc_tipo> OU DO NOME <nome>:<desc_tipo> \n",
        "EXEMPLOS COM O CONTROLE DE CASAS DECIMAIS DE UM float.\n"
      ]
    },
    {
      "cell_type": "code",
      "metadata": {
        "colab": {
          "base_uri": "https://localhost:8080/",
          "height": 35
        },
        "id": "y0sAYvV7ktEI",
        "outputId": "6e95ca37-2272-49a1-f25d-5b0c3ae228c5"
      },
      "source": [
        "\"a = {:.2f}\".format(100) # um parametro, um float com duas casas decimais"
      ],
      "execution_count": null,
      "outputs": [
        {
          "output_type": "execute_result",
          "data": {
            "application/vnd.google.colaboratory.intrinsic+json": {
              "type": "string"
            },
            "text/plain": [
              "'a = 100.00'"
            ]
          },
          "metadata": {
            "tags": []
          },
          "execution_count": 17
        }
      ]
    },
    {
      "cell_type": "code",
      "metadata": {
        "colab": {
          "base_uri": "https://localhost:8080/",
          "height": 35
        },
        "id": "O1yqR4XImMZW",
        "outputId": "cd1c896a-b0e3-42d7-e55b-482a9b9ea523"
      },
      "source": [
        "\"a = {0:.2f}, b = {0:.3f}\".format(100) # um parametro, duas e tres casas decimais"
      ],
      "execution_count": null,
      "outputs": [
        {
          "output_type": "execute_result",
          "data": {
            "application/vnd.google.colaboratory.intrinsic+json": {
              "type": "string"
            },
            "text/plain": [
              "'a = 100.00, b = 100.000'"
            ]
          },
          "metadata": {
            "tags": []
          },
          "execution_count": 19
        }
      ]
    },
    {
      "cell_type": "code",
      "metadata": {
        "colab": {
          "base_uri": "https://localhost:8080/",
          "height": 35
        },
        "id": "py7zVrPHmm-C",
        "outputId": "da454090-f365-49f9-a5df-4a3d8aa7edae"
      },
      "source": [
        "\"b = {y:.1f}, a = {x:.2f}\".format(x = 100.1234, y = 100.567) #dois parametro, ordem inversa , arredondando pra maior"
      ],
      "execution_count": null,
      "outputs": [
        {
          "output_type": "execute_result",
          "data": {
            "application/vnd.google.colaboratory.intrinsic+json": {
              "type": "string"
            },
            "text/plain": [
              "'b = 100.6, a = 100.12'"
            ]
          },
          "metadata": {
            "tags": []
          },
          "execution_count": 20
        }
      ]
    },
    {
      "cell_type": "markdown",
      "metadata": {
        "id": "BhUjnkhIkmio"
      },
      "source": [
        ""
      ]
    },
    {
      "cell_type": "markdown",
      "metadata": {
        "id": "47zr62ZX6BwW"
      },
      "source": [
        "EXERCICIO 17 (B)"
      ]
    },
    {
      "cell_type": "code",
      "metadata": {
        "colab": {
          "base_uri": "https://localhost:8080/"
        },
        "id": "yTBeZFJc6Aio",
        "outputId": "8c024f41-ff31-4ada-9146-d4a33c3d2c32"
      },
      "source": [
        "import math\n",
        "\n",
        "medidas = int(input('Digite quantos metros quadrados: '))\n",
        "area_com_folga = medidas * 1.1\n",
        "print(f'Area com folga 10% a Maior é: {area_com_folga}')\n",
        "litros = area_com_folga / 6             # usar regra de 3 onde 6xlitros = 1xmedida (litros=medida/6)\n",
        "litro_por_lata = 18\n",
        "litro_por_galao = 3.6\n",
        "latas = math.ceil(litros / 18)\n",
        "galao = math.ceil(litros / 3.6) \n",
        "se_combinar = litro_por_lata + litro_por_galao\n",
        "valor_da_lata = 80\n",
        "valor_do_galao = 25\n",
        "preco_da_lata = latas * 80\n",
        "preco_do_galao = galao * 25\n",
        "combinacao = (litros // 18) * 80 + (math.ceil(((litros % 18) / 3.6))* 25)\n",
        "litros_a_ser_usados = litros\n",
        "quantidade_galao_misto = litros // litro_por_lata # COMBINACAO ENTRE LATAS E GALÃO\n",
        "quantidade_lata_misto = math.ceil((litros - quantidade_galao_misto * litro_por_lata) / litro_por_galao)\n",
        "preco_da_lata_misto = quantidade_galao_misto * valor_da_lata\n",
        "preco_do_galao_misto = quantidade_galao_misto * valor_do_galao # COMBINAÇÃO\n",
        "print('Litros a ser usado é: ', litros_a_ser_usados)\n",
        "print('Litros a ser comprado é: ', se_combinar)\n",
        "print('Se comprar só latas de 18 litros, preciso de: ', latas)\n",
        "print('Se comprar só galão de 3.6 litros, preciso de: : ', galao)\n",
        "print('O preço so com latas de 18 litros é:' , preco_da_lata)\n",
        "print('O preço so com galoes de 3.6 litros é:' , preco_do_galao)\n",
        "print('considerando o menor desperdíciode tinta, temos:')\n",
        "print(f'quantidade latas de 18 litros: {quantidade_lata_misto:.0f}') # \".0f\" vem do .FORMAT (QUE SIGNIFICA PEGARouATRIBUIR A \"PRIMEIRA VARIAVEL\" (\".0f\") NO CASO \"quantodade_lata_mista\"                                                                    \n",
        "print(f'quantidade galões de 3.6 litros: {quantidade_galao_misto:.0f}')\n",
        "print(f'quantidade total mistas: {quantidade_galao_misto + quantidade_lata_misto:.0f}')\n",
        "print(f'valor total considerando GALOES e LATAS é: R$ {preco_da_lata_misto + preco_do_galao_misto:.2f}') # \":.2f\" USAR APENAS DUAS CASAS DECIMAIS EXPL:1,\"00\""
      ],
      "execution_count": null,
      "outputs": [
        {
          "output_type": "stream",
          "text": [
            "Digite quantos metros quadrados: 90\n",
            "Area com folga 10% a Maior é: 99.00000000000001\n",
            "Litros a ser usado é:  16.500000000000004\n",
            "Litros a ser comprado é:  21.6\n",
            "Se comprar só latas de 18 litros, preciso de:  1\n",
            "Se comprar só galão de 3.6 litros, preciso de: :  5\n",
            "O preço so com latas de 18 litros é: 80\n",
            "O preço so com galoes de 3.6 litros é: 125\n",
            "considerando o menor desperdíciode tinta, temos:\n",
            "quantidade latas de 18 litros: 5\n",
            "quantidade galões de 3.6 litros: 0\n",
            "quantidade total mistas: 5\n",
            "valor total considerando GALOES e LATAS é: R$ 0.00\n"
          ],
          "name": "stdout"
        }
      ]
    },
    {
      "cell_type": "markdown",
      "metadata": {
        "id": "3i0uCLUIZqB1"
      },
      "source": [
        "exercicio 17 new"
      ]
    },
    {
      "cell_type": "code",
      "metadata": {
        "colab": {
          "base_uri": "https://localhost:8080/"
        },
        "id": "djOaRCu6ZpVS",
        "outputId": "3ff68b81-ae47-45c1-9a15-797f153a8a46"
      },
      "source": [
        "M2_POR_LITRO = 6\n",
        "PRECO_GALAO = 80\n",
        "LITROS_GALAO = 18\n",
        "PRECO_LATA = 25\n",
        "LITROS_LATA = 3.6\n",
        "MARGEM_SEGURANCA = 1.1\n",
        "\n",
        "m2 = float(input('informe a quantidade de METRO QUADRADO (m²) a ser pintado: '))\n",
        "\n",
        "consumo_litro = m2 / M2_POR_LITRO * MARGEM_SEGURANCA\n",
        "\n",
        "qtd_galao_apenas = math.ceil(consumo_litro / LITROS_GALAO)\n",
        "valor_galao_apenas = qtd_galao_apenas * PRECO_GALAO\n",
        "\n",
        "qtd_lata_apenas = math.ceil(consumo_litro / LITROS_LATA)\n",
        "valor_lata_apenas = qtd_lata_apenas * PRECO_LATA\n",
        "\n",
        "qtd_galao_misto = consumo_litro // LITROS_GALAO\n",
        "qtd_lata_misto = math.ceil((consumo_litro - qtd_galao_misto * LITROS_GALAO) / LITROS_LATA)\n",
        "valor_galao_misto = qtd_galao_misto * PRECO_GALAO\n",
        "valor_lata_misto = qtd_lata_misto * PRECO_LATA\n",
        "\n",
        "print()\n",
        "print(f'o consumo de tinta é: {consumo_litro:.2f} LITROS')\n",
        "print()\n",
        "print(f'a quantidade de GALOES de 18 LITROS a ser usado é: {qtd_galao_apenas:.0f}')\n",
        "print(f'o valor total em GALOES de 18 LITROS é: R$ {valor_galao_apenas:.2f}')\n",
        "print()\n",
        "print(f'a quantidade de LATAS de 3,6 LITROS a ser usado é: {qtd_lata_apenas:.0f}')\n",
        "print(f'o valor total em LATAS de 3,6 LITROS é: R$ {valor_lata_apenas:.2f}')\n",
        "print()\n",
        "print('considerando o menor desperdíciode tinta, temos:')\n",
        "print(f'quantidade galões: {qtd_galao_misto:.0f}')\n",
        "print(f'quantidade latas: {qtd_lata_misto:.0f}')\n",
        "print(f'quantidade total mistas: {qtd_galao_misto + qtd_lata_misto:.0f}')\n",
        "print(f'valor total considerando GALOES e LATAS é: R$ {valor_galao_misto + valor_lata_misto:.2f}')\n"
      ],
      "execution_count": null,
      "outputs": [
        {
          "output_type": "stream",
          "text": [
            "informe a quantidade de METRO QUADRADO (m²) a ser pintado: 100\n",
            "\n",
            "o consumo de tinta é: 18.33 LITROS\n",
            "\n",
            "a quantidade de GALOES de 18 LITROS a ser usado é: 2\n",
            "o valor total em GALOES de 18 LITROS é: R$ 160.00\n",
            "\n",
            "a quantidade de LATAS de 3,6 LITROS a ser usado é: 6\n",
            "o valor total em LATAS de 3,6 LITROS é: R$ 150.00\n",
            "\n",
            "considerando o menor desperdíciode tinta, temos:\n",
            "quantidade galões: 1\n",
            "quantidade latas: 1\n",
            "quantidade total mistas: 2\n",
            "valor total considerando GALOES e LATAS é: R$ 105.00\n"
          ],
          "name": "stdout"
        }
      ]
    }
  ]
}